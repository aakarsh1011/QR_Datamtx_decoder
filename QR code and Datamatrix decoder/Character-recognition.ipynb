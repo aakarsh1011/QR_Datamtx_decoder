{
 "cells": [
  {
   "cell_type": "code",
   "execution_count": 40,
   "metadata": {},
   "outputs": [],
   "source": [
    "#importing necessary libraries\n",
    "from pyzbar import pyzbar                 #using this to detect and decode qrcode\n",
    "import cv2 as cv2                         #opencv for video capture\n",
    "from pylibdmtx import pylibdmtx    #using to detect and decode datamatrix\n",
    "\n",
    "cap = cv.VideoCapture(0)                  #capturing video \n",
    "font = cv.FONT_HERSHEY_COMPLEX            #setting the font to display the data\n",
    "\n",
    "while True :\n",
    "    _, frame = cap.read()                 #capturing each frame \n",
    "    #detecting Qrcode and decoding the data\n",
    "    decodeObj = pyzbar.decode(frame)      \n",
    "    for obj in decodeObj:\n",
    "              #printitng the data on the frame \n",
    "        cv.putText(frame,str(obj.data),(50,50),font,1,(255, 0, 0), 3)\n",
    "        \n",
    "    #detecting the data matrix and coding it    \n",
    "    decodeObj2 = pylibdmtx.decode(frame)\n",
    "    for obj in decodeObj2:\n",
    "        #putting the text on the output window\n",
    "        cv.putText(frame,str(obj.data),(50,50), font ,1,(255, 0, 0), 3)\n",
    "    \n",
    "    #displaying the windows back\n",
    "    cv.imshow(\"frame\", frame)\n",
    "    \n",
    "    #waiting for the esc key to destroy all window\n",
    "    key = cv.waitKey(30) & 0xff\n",
    "    if key == 27:\n",
    "        break\n",
    "cap.release()\n",
    "cv.destroyAllWindows()"
   ]
  },
  {
   "cell_type": "code",
   "execution_count": null,
   "metadata": {},
   "outputs": [],
   "source": []
  }
 ],
 "metadata": {
  "kernelspec": {
   "display_name": "Python 3",
   "language": "python",
   "name": "python3"
  },
  "language_info": {
   "codemirror_mode": {
    "name": "ipython",
    "version": 3
   },
   "file_extension": ".py",
   "mimetype": "text/x-python",
   "name": "python",
   "nbconvert_exporter": "python",
   "pygments_lexer": "ipython3",
   "version": "3.7.3"
  }
 },
 "nbformat": 4,
 "nbformat_minor": 2
}
